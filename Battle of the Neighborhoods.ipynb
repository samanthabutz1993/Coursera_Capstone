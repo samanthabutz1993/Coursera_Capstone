{
 "cells": [
  {
   "cell_type": "markdown",
   "metadata": {},
   "source": [
    "The Business Problem stated here was that nowadays, many people are searching for the best neighborhood to move to by searching on the internet or by personal experience. \n",
    "\n",
    "However, by using location data based on Foursqaure, reliabale data is used and hence, neighboorhoods can be easily clustered in order to find a neihboorhood in Toronto based on its personal preferences.\n",
    "\n",
    "My target audience is people who aim to find a neighboorhood in toronto where they can move to based on their personal perefences.\n",
    "Who would care about are people who want to move or the government finding about patterns an d clusters about specific neighborhoods as well as institutions who want to buy places in neighborhoods based on different factors."
   ]
  }
 ],
 "metadata": {
  "kernelspec": {
   "display_name": "Python 3",
   "language": "python",
   "name": "python3"
  },
  "language_info": {
   "codemirror_mode": {
    "name": "ipython",
    "version": 3
   },
   "file_extension": ".py",
   "mimetype": "text/x-python",
   "name": "python",
   "nbconvert_exporter": "python",
   "pygments_lexer": "ipython3",
   "version": "3.6.4"
  }
 },
 "nbformat": 4,
 "nbformat_minor": 2
}
